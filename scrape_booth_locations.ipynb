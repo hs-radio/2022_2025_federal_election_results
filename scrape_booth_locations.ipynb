{
 "cells": [
  {
   "cell_type": "markdown",
   "id": "33dd36ec-5aca-4c62-ac9e-c08a327fe9d8",
   "metadata": {},
   "source": [
    "### Scrape booth locations\n",
    "This notebook goes through the AEC website and get the exact address of each polling booth. This is then saved in a two column excel file."
   ]
  },
  {
   "cell_type": "code",
   "execution_count": 37,
   "id": "68145e01-fff0-462c-9703-c51c4681d909",
   "metadata": {},
   "outputs": [],
   "source": [
    "# Libraries\n",
    "import requests\n",
    "from bs4 import BeautifulSoup\n",
    "import csv\n",
    "from collections import defaultdict"
   ]
  },
  {
   "cell_type": "code",
   "execution_count": 40,
   "id": "7aed8060-1618-46a6-9a77-e9dfaa3aa24e",
   "metadata": {},
   "outputs": [],
   "source": [
    "# Get all the seats in a state\n",
    "def get_seats_in_state():\n",
    "    base_url = \"https://results.aec.gov.au/27966/website/\"\n",
    "    start_url = base_url + \"HouseDivisionMenu-27966-NSW.htm\"\n",
    "\n",
    "    response = requests.get(start_url)\n",
    "    soup = BeautifulSoup(response.text, \"html.parser\")\n",
    "\n",
    "    # Extract division links\n",
    "    division_links = [base_url + link[\"href\"] for link in soup.find_all(\"a\", href=True) if link[\"href\"].startswith(\"HouseDivisionPage-27966\")]\n",
    "    return division_links\n",
    "\n",
    "# Get polling booth names and addresses, skipping \"Special Hospital Team\" entries\n",
    "def get_booth_name_location(url):\n",
    "    response = requests.get(url)\n",
    "    soup = BeautifulSoup(response.text, \"html.parser\")\n",
    "\n",
    "    # Locate correct table\n",
    "    target_table = None\n",
    "    for table in soup.find_all(\"table\"):\n",
    "        caption = table.find(\"caption\")\n",
    "        if caption and \"Polling places for\" in caption.text:\n",
    "            target_table = table\n",
    "            break\n",
    "\n",
    "    # Initialize table_data to prevent errors\n",
    "    table_data = []\n",
    "\n",
    "    # Extract polling place data\n",
    "    if target_table:\n",
    "        for row in target_table.find_all(\"tr\")[1:]:  # Skip header row\n",
    "            columns = row.find_all(\"td\")\n",
    "            if len(columns) >= 2:\n",
    "                place_name = columns[0].text.strip()\n",
    "                address = columns[1].text.strip()\n",
    "                table_data.append((place_name, address))\n",
    "\n",
    "    return table_data  # Ensure a list is always returned\n",
    "\n",
    "# Save results to CSV\n",
    "def save_to_csv(table_data, output_file):\n",
    "    with open(output_file, \"w\", newline=\"\", encoding=\"utf-8\") as file:\n",
    "        writer = csv.writer(file)\n",
    "        writer.writerow([\"PollingPlace\", \"Address\"])  # Header row\n",
    "        writer.writerows(table_data)\n",
    "\n",
    "    print(f\"Data saved to {output_file}\")\n",
    "\n",
    "# duplicate place names are given a number on the end\n",
    "def amend_place_names(table_data):\n",
    "    # Dictionary to track occurrences of polling places\n",
    "    seen_places = defaultdict(int)\n",
    "    \n",
    "    # Modify polling place names if duplicates exist\n",
    "    updated_table_data = []\n",
    "    for polling_place, address in table_data:\n",
    "        seen_places[polling_place] += 1\n",
    "        if seen_places[polling_place] > 1:\n",
    "            polling_place = f\"{polling_place} ({seen_places[polling_place]})\"  # Append a counter\n",
    "        updated_table_data.append((polling_place, address))\n",
    "    \n",
    "    # Update table_data with the modified entries\n",
    "    table_data = updated_table_data\n",
    "    \n",
    "    return table_data"
   ]
  },
  {
   "cell_type": "code",
   "execution_count": 41,
   "id": "6f90c989-ed3b-4a8d-93e4-656d1eb3d88d",
   "metadata": {},
   "outputs": [
    {
     "name": "stdout",
     "output_type": "stream",
     "text": [
      "Data saved to polling_places.csv\n"
     ]
    }
   ],
   "source": [
    "# Run the script\n",
    "division_links = get_seats_in_state()\n",
    "table_data = []\n",
    "\n",
    "for link in division_links:\n",
    "    new_data = get_booth_name_location(link)\n",
    "    table_data.extend(new_data)  # Use extend instead of append\n",
    "    \n",
    "# Remove entries where the address contains \"Multiple sites\"\n",
    "table_data = [entry for entry in table_data if \"Multiple sites\" not in entry[1]]\n",
    "table_data = amend_place_names(table_data)\n",
    "save_to_csv(table_data, \"polling_places.csv\")"
   ]
  },
  {
   "cell_type": "code",
   "execution_count": 42,
   "id": "701017be-eaaa-47d9-b83f-45ea5a2dad01",
   "metadata": {},
   "outputs": [
    {
     "name": "stdout",
     "output_type": "stream",
     "text": [
      "('Special Hospital Team 1', 'Dalton Gardens, 678 Victoria Rd, RYDE NSW 2112')\n",
      "('Special Hospital Team 1 (2)', 'Cherrybrook Christian Care Centre, 3 Kitchener Rd, CHERRYBROOK NSW 2126')\n",
      "('Special Hospital Team 1 (3)', 'UPA Sydney North Aged Care, 1614-1634 Pacific Hwy, WAHROONGA NSW 2076')\n",
      "('Special Hospital Team 1 (4)', 'Opal Coffs Harbour, 50 Lakes Dr, NORTH BOAMBEE VALLEY NSW 2450')\n",
      "('Other Mobile Team 1', 'Griffith Aboriginal Medical Service, 38-42 Jondaryan Ave, GRIFFITH NSW 2680')\n",
      "('Special Hospital Team 1 (5)', 'St Sergius Nursing Home, 1 Gilbert St, CABRAMATTA NSW 2166')\n",
      "('Special Hospital Team 1 (6)', 'Carrington Nursing Home, 90 Werombi Rd, GRASMERE NSW 2570')\n",
      "('Special Hospital Team 1 (7)', 'Wesley Gardens, 2B Morgan Rd, BELROSE NSW 2085')\n",
      "('Special Hospital Team 1 (8)', 'Woodberry Village, 129 Lanhams Rd, WINSTON HILLS NSW 2153')\n",
      "('Special Hospital Team 1 (9)', 'McLean Care, 67 Killean St, INVERELL NSW 2360')\n",
      "('Special Hospital Team 1 (10)', 'Harbourside Haven Hostels and Nursing Home, 89A Shoal Bay Rd, SHOAL BAY NSW 2315')\n",
      "('Other Mobile Team 1 (2)', 'Exodus Foundation (Loaves and Fishes), 180 Liverpool Rd, ASHFIELD NSW 2131')\n"
     ]
    }
   ],
   "source": [
    "# Find all entries containing \"Special Hospital 1\"\n",
    "matches = [entry for entry in table_data if \"Team\" in entry[0] or \"Special Hospital 1\" in entry[1]]\n",
    "\n",
    "# Print results\n",
    "if matches:\n",
    "    for match in matches:\n",
    "        print(match)\n",
    "else:\n",
    "    print(\"No entries found for 'Special Hospital 1'.\")"
   ]
  },
  {
   "cell_type": "code",
   "execution_count": 43,
   "id": "6691fcad-ffcf-468b-90f7-bb948aa5fb67",
   "metadata": {},
   "outputs": [
    {
     "name": "stdout",
     "output_type": "stream",
     "text": [
      "No duplicate polling places found.\n"
     ]
    }
   ],
   "source": [
    "from collections import Counter\n",
    "\n",
    "# Count occurrences of each polling place\n",
    "polling_place_counts = Counter(entry[0] for entry in table_data)\n",
    "\n",
    "# Print duplicates\n",
    "duplicates = {place: count for place, count in polling_place_counts.items() if count > 1}\n",
    "\n",
    "if duplicates:\n",
    "    print(\"Duplicate Polling Places Found:\")\n",
    "    for place, count in duplicates.items():\n",
    "        print(f\"{place}: {count} times\")\n",
    "else:\n",
    "    print(\"No duplicate polling places found.\")"
   ]
  },
  {
   "cell_type": "code",
   "execution_count": null,
   "id": "ac6a7fc7-f80c-4084-9dcc-ccce243e3b49",
   "metadata": {},
   "outputs": [],
   "source": []
  }
 ],
 "metadata": {
  "kernelspec": {
   "display_name": "Python 3 (ipykernel)",
   "language": "python",
   "name": "python3"
  },
  "language_info": {
   "codemirror_mode": {
    "name": "ipython",
    "version": 3
   },
   "file_extension": ".py",
   "mimetype": "text/x-python",
   "name": "python",
   "nbconvert_exporter": "python",
   "pygments_lexer": "ipython3",
   "version": "3.13.3"
  }
 },
 "nbformat": 4,
 "nbformat_minor": 5
}
